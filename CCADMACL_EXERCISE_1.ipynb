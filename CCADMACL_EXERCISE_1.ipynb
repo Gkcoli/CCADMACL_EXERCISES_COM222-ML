{
  "nbformat": 4,
  "nbformat_minor": 0,
  "metadata": {
    "colab": {
      "provenance": [],
      "toc_visible": true,
      "include_colab_link": true
    },
    "kernelspec": {
      "name": "python3",
      "display_name": "Python 3"
    },
    "language_info": {
      "name": "python"
    }
  },
  "cells": [
    {
      "cell_type": "markdown",
      "metadata": {
        "id": "view-in-github",
        "colab_type": "text"
      },
      "source": [
        "<a href=\"https://colab.research.google.com/github/Gkcoli/CCADMACL_EXERCISES_COM222-ML/blob/main/CCADMACL_EXERCISE_1.ipynb\" target=\"_parent\"><img src=\"https://colab.research.google.com/assets/colab-badge.svg\" alt=\"Open In Colab\"/></a>"
      ]
    },
    {
      "cell_type": "markdown",
      "source": [
        "# Exercise 1\n",
        "\n",
        "Use all feature selection methods to find the best features"
      ],
      "metadata": {
        "id": "wyguhJBCREPq"
      }
    },
    {
      "cell_type": "markdown",
      "source": [
        "## Dataset Information\n",
        "\n",
        "## Features\n",
        "\n",
        "Number of Instances: 20640\n",
        "\n",
        "Number of Attributes: 8 numeric, predictive attributes and the target\n",
        "\n",
        "Attribute Information:\n",
        "\n",
        "MedInc - median income in block group\n",
        "\n",
        "HouseAge - median house age in block group\n",
        "\n",
        "AveRooms - average number of rooms per household\n",
        "\n",
        "AveBedrms - average number of bedrooms per household\n",
        "\n",
        "Population - block group population\n",
        "\n",
        "AveOccup - average number of household members\n",
        "\n",
        "Latitude - block group latitude\n",
        "\n",
        "Longitude - block group longitude\n",
        "\n",
        "## Target\n",
        "The target variable is the median house value for California districts, expressed in hundreds of thousands of dollars ($100,000)."
      ],
      "metadata": {
        "id": "W1nEzxdXQbpH"
      }
    },
    {
      "cell_type": "code",
      "execution_count": 51,
      "metadata": {
        "id": "ZAVjjtJ9PVED"
      },
      "outputs": [],
      "source": [
        "from sklearn.datasets import fetch_california_housing\n",
        "import pandas as pd\n",
        "import numpy as np\n",
        "from sklearn.feature_selection import SelectKBest, f_classif, RFE, SelectFromModel\n",
        "from sklearn.linear_model import LinearRegression\n",
        "from sklearn.ensemble import RandomForestRegressor\n",
        "from sklearn.model_selection import train_test_split\n",
        "from sklearn.metrics import mean_squared_error"
      ]
    },
    {
      "cell_type": "code",
      "source": [
        "housing = fetch_california_housing(as_frame=True)\n",
        "df = pd.concat([housing.data, housing.target], axis=1)"
      ],
      "metadata": {
        "id": "N12mwL2GPX48"
      },
      "execution_count": 52,
      "outputs": []
    },
    {
      "cell_type": "markdown",
      "source": [
        "0. Default"
      ],
      "metadata": {
        "id": "iYkZFxO6sirh"
      }
    },
    {
      "cell_type": "code",
      "source": [
        "X_train, X_test, y_train, y_test = train_test_split(housing.data, housing.target, test_size=0.2, random_state=42)\n"
      ],
      "metadata": {
        "id": "TOtFcXBYwAWa"
      },
      "execution_count": 53,
      "outputs": []
    },
    {
      "cell_type": "code",
      "source": [
        "default_model = LinearRegression()\n",
        "default_model.fit(X_train, y_train)\n",
        "y_pred_default = default_model.predict(X_test)\n",
        "default_rmse = np.sqrt(mean_squared_error(y_test, y_pred_default))"
      ],
      "metadata": {
        "id": "Bu7UuFB2WIUP"
      },
      "execution_count": 54,
      "outputs": []
    },
    {
      "cell_type": "markdown",
      "source": [
        "1. Use any filter method to select the best features (f_classif)"
      ],
      "metadata": {
        "id": "6tqvZqTtRgRe"
      }
    },
    {
      "cell_type": "code",
      "source": [
        "k = 5  # Number of features to select\n",
        "filter_selector = SelectKBest(score_func=f_classif, k=k)\n",
        "X_train_filter = filter_selector.fit_transform(X_train, y_train)\n",
        "X_test_filter = filter_selector.transform(X_test)\n",
        "\n",
        "selected_features_filter = X_train.columns[filter_selector.get_support()]\n",
        "filter_model = LinearRegression()\n",
        "filter_model.fit(X_train_filter, y_train)\n",
        "y_pred_filter = filter_model.predict(X_test_filter)\n",
        "filter_rmse = np.sqrt(mean_squared_error(y_test, y_pred_filter))"
      ],
      "metadata": {
        "id": "K5DB6f6jRmUF"
      },
      "execution_count": 55,
      "outputs": []
    },
    {
      "cell_type": "markdown",
      "source": [
        "2. Use any wrapper method to select the best features"
      ],
      "metadata": {
        "id": "eZ5kAdM7RpDD"
      }
    },
    {
      "cell_type": "code",
      "source": [
        "rfe_model = LinearRegression()\n",
        "rfe_selector = RFE(estimator=rfe_model, n_features_to_select=5)\n",
        "rfe_selector.fit(X_train, y_train)\n",
        "\n",
        "selected_features_rfe = X_train.columns[rfe_selector.support_]\n",
        "X_train_rfe = rfe_selector.transform(X_train)\n",
        "X_test_rfe = rfe_selector.transform(X_test)\n",
        "rfe_model.fit(X_train_rfe, y_train)\n",
        "\n",
        "y_pred_rfe = rfe_model.predict(X_test_rfe)\n",
        "rfe_rmse = np.sqrt(mean_squared_error(y_test, y_pred_rfe))"
      ],
      "metadata": {
        "id": "WqGsWQRec_Eh"
      },
      "execution_count": 56,
      "outputs": []
    },
    {
      "cell_type": "markdown",
      "source": [
        "3. Use any embedded methood to select the best features"
      ],
      "metadata": {
        "id": "5k0F2bh5kLna"
      }
    },
    {
      "cell_type": "code",
      "source": [
        "rf_model = RandomForestRegressor(n_estimators=500, random_state=42)\n",
        "rf_model.fit(X_train, y_train)\n",
        "\n",
        "sfm_selector = SelectFromModel(rf_model, prefit=True, threshold=\"mean\")\n",
        "X_train_sfm = sfm_selector.transform(X_train)\n",
        "X_test_sfm = sfm_selector.transform(X_test)\n",
        "\n",
        "selected_features_sfm = X_train.columns[sfm_selector.get_support()]\n",
        "y_val = rf_model.predict(X_test)\n",
        "\n",
        "sfm_rmse = np.sqrt(mean_squared_error(y_test, y_val))"
      ],
      "metadata": {
        "id": "EERyLOgNkJxC",
        "colab": {
          "base_uri": "https://localhost:8080/"
        },
        "outputId": "66e697a6-fa1f-4625-da07-eca9f2c81650"
      },
      "execution_count": 61,
      "outputs": [
        {
          "output_type": "stream",
          "name": "stderr",
          "text": [
            "/usr/local/lib/python3.10/dist-packages/sklearn/base.py:486: UserWarning: X has feature names, but SelectFromModel was fitted without feature names\n",
            "  warnings.warn(\n",
            "/usr/local/lib/python3.10/dist-packages/sklearn/base.py:486: UserWarning: X has feature names, but SelectFromModel was fitted without feature names\n",
            "  warnings.warn(\n"
          ]
        }
      ]
    },
    {
      "cell_type": "markdown",
      "source": [
        "Top Features"
      ],
      "metadata": {
        "id": "-H8NbOnCubM_"
      }
    },
    {
      "cell_type": "code",
      "source": [
        "# Print top features from each method\n",
        "print(\"\\nSelected Features:\")\n",
        "print(f\"Filter Method (F_classif): {list(selected_features_filter)}\")\n",
        "print(f\"Wrapper Method (RFE): {list(selected_features_rfe)}\")\n",
        "print(f\"Embedded Method (SelectFromModel): {list(selected_features_sfm)}\")"
      ],
      "metadata": {
        "colab": {
          "base_uri": "https://localhost:8080/"
        },
        "id": "_3m43rs-uavg",
        "outputId": "21faa7cf-4af8-48a6-aa48-67b21fcbac1a"
      },
      "execution_count": 62,
      "outputs": [
        {
          "output_type": "stream",
          "name": "stdout",
          "text": [
            "\n",
            "Selected Features:\n",
            "Filter Method (F_classif): ['MedInc', 'HouseAge', 'Population', 'Latitude', 'Longitude']\n",
            "Wrapper Method (RFE): ['MedInc', 'AveRooms', 'AveBedrms', 'Latitude', 'Longitude']\n",
            "Embedded Method (SelectFromModel): ['MedInc', 'AveOccup']\n"
          ]
        }
      ]
    },
    {
      "cell_type": "markdown",
      "source": [
        "RMSE results"
      ],
      "metadata": {
        "id": "1Hwkaqz9ufZ5"
      }
    },
    {
      "cell_type": "code",
      "source": [
        "print(f\"Default RMSE: {default_rmse}\")\n",
        "print(f\"Filter RMSE: {filter_rmse}\")\n",
        "print(f\"Wrapper RMSE: {rfe_rmse}\")\n",
        "print(f\"Embedded RMSE: {sfm_rmse}\")"
      ],
      "metadata": {
        "id": "7y1Pa5NIlhCR",
        "colab": {
          "base_uri": "https://localhost:8080/"
        },
        "outputId": "6120d516-67af-41d8-cde4-5f19892a6cc1"
      },
      "execution_count": 63,
      "outputs": [
        {
          "output_type": "stream",
          "name": "stdout",
          "text": [
            "Default RMSE: 0.7455813830127764\n",
            "Filter RMSE: 0.7408843864985539\n",
            "Wrapper RMSE: 0.7528409640011294\n",
            "Embedded RMSE: 0.5021907705243096\n"
          ]
        }
      ]
    }
  ]
}